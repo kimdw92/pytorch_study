{
 "cells": [
  {
   "cell_type": "markdown",
   "id": "2a82d6bb",
   "metadata": {},
   "source": [
    "# 1. Pytorch로 MLP 구현하기"
   ]
  },
  {
   "cell_type": "code",
   "execution_count": 1,
   "id": "eb6a395e",
   "metadata": {},
   "outputs": [],
   "source": [
    "''' 1. Module Import '''\n",
    "import numpy as np\n",
    "import matplotlib.pyplot as plt\n",
    "\n",
    "import torch\n",
    "import torch.nn as nn\n",
    "import torch.nn.functional as F\n",
    "from torchvision import transforms, datasets"
   ]
  },
  {
   "cell_type": "code",
   "execution_count": 2,
   "id": "b24ced76",
   "metadata": {},
   "outputs": [
    {
     "name": "stdout",
     "output_type": "stream",
     "text": [
      "Using PyTorch version: 1.9.0+cu102  Device: cuda\n"
     ]
    }
   ],
   "source": [
    "''' 2. 딥러닝 모델을 설계할 때 활용하는 장비 확인 '''\n",
    "if torch.cuda.is_available():\n",
    "    DEVICE = torch.device('cuda')\n",
    "else:\n",
    "    DEVICE = torch.device('cpu')\n",
    "\n",
    "print('Using PyTorch version:', torch.__version__, ' Device:', DEVICE)"
   ]
  },
  {
   "cell_type": "markdown",
   "id": "6c886ff7",
   "metadata": {},
   "source": [
    "파이썬 코드 내 하이퍼파라미터는 보통 영어 대문자로 표기한다."
   ]
  },
  {
   "cell_type": "code",
   "execution_count": 3,
   "id": "ea7a9771",
   "metadata": {},
   "outputs": [],
   "source": [
    "BATCH_SIZE = 32\n",
    "EPOCHS = 10"
   ]
  },
  {
   "cell_type": "code",
   "execution_count": 4,
   "id": "116c48f0",
   "metadata": {},
   "outputs": [
    {
     "name": "stderr",
     "output_type": "stream",
     "text": [
      "C:\\Users\\anpdi\\anaconda3\\lib\\site-packages\\torchvision\\datasets\\mnist.py:498: UserWarning: The given NumPy array is not writeable, and PyTorch does not support non-writeable tensors. This means you can write to the underlying (supposedly non-writeable) NumPy array using the tensor. You may want to copy the array to protect its data or make it writeable before converting it to a tensor. This type of warning will be suppressed for the rest of this program. (Triggered internally at  ..\\torch\\csrc\\utils\\tensor_numpy.cpp:180.)\n",
      "  return torch.from_numpy(parsed.astype(m[2], copy=False)).view(*s)\n"
     ]
    }
   ],
   "source": [
    "''' 3. MNIST 데이터 다운로드 (Train set, Test set 분리하기) '''\n",
    "train_dataset = datasets.MNIST(root = \"../data/MNIST\",\n",
    "                               train = True,\n",
    "                               download = True,\n",
    "                               transform = transforms.ToTensor())\n",
    "\n",
    "test_dataset = datasets.MNIST(root = \"../data/MNIST\",\n",
    "                              train = False,\n",
    "                              transform = transforms.ToTensor())\n",
    "\n",
    "train_loader = torch.utils.data.DataLoader(dataset = train_dataset,\n",
    "                                           batch_size = BATCH_SIZE,\n",
    "                                           shuffle = True)\n",
    "\n",
    "test_loader = torch.utils.data.DataLoader(dataset = test_dataset,\n",
    "                                          batch_size = BATCH_SIZE,\n",
    "                                          shuffle = False)"
   ]
  },
  {
   "cell_type": "code",
   "execution_count": 5,
   "id": "7e40d82d",
   "metadata": {},
   "outputs": [
    {
     "name": "stdout",
     "output_type": "stream",
     "text": [
      "X_train: torch.Size([32, 1, 28, 28]) type: torch.FloatTensor\n",
      "y_train: torch.Size([32]) type: torch.LongTensor\n"
     ]
    }
   ],
   "source": [
    "''' 4. 데이터 확인하기 (1) '''\n",
    "for (X_train, y_train) in train_loader:\n",
    "    print('X_train:', X_train.size(), 'type:', X_train.type())\n",
    "    print('y_train:', y_train.size(), 'type:', y_train.type())\n",
    "    break"
   ]
  },
  {
   "cell_type": "code",
   "execution_count": 6,
   "id": "287c84af",
   "metadata": {},
   "outputs": [
    {
     "data": {
      "image/png": "[encoded data removed]",
      "text/plain": [
       "<Figure size 720x72 with 10 Axes>"
      ]
     },
     "metadata": {
      "needs_background": "light"
     },
     "output_type": "display_data"
    }
   ],
   "source": [
    "''' 5. 데이터 확인하기 (2) '''\n",
    "pltsize = 1\n",
    "plt.figure(figsize=(10 * pltsize, pltsize))\n",
    "for i in range(10):\n",
    "    plt.subplot(1, 10, i + 1)\n",
    "    plt.axis('off')\n",
    "    plt.imshow(X_train[i, :, :, :].numpy().reshape(28, 28), cmap = \"gray_r\")\n",
    "    plt.title('Class: ' + str(y_train[i].item()))"
   ]
  },
  {
   "cell_type": "code",
   "execution_count": 7,
   "id": "f97ad7a0",
   "metadata": {},
   "outputs": [],
   "source": [
    "''' 6. Multi Layer Perceptron (MLP) 모델 설계하기 '''\n",
    "class Net(nn.Module):\n",
    "    def __init__(self): # Net 클래스의 인스턴스를 생성했을 때 지니게 되는 성질을 정의하는 메서드\n",
    "        super(Net, self).__init__() # nn.Module 내에 있는 메서드를 상속 받아 이용\n",
    "        self.fc1 = nn.Linear(28 * 28, 512) \n",
    "        self.fc2 = nn.Linear(512, 256)\n",
    "        self.fc3 = nn.Linear(256, 10)\n",
    "\n",
    "    def forward(self, x):\n",
    "        x = x.view(-1, 28 * 28)\n",
    "        x = self.fc1(x)\n",
    "        x = F.sigmoid(x)\n",
    "        x = self.fc2(x)\n",
    "        x = F.sigmoid(x)\n",
    "        x = self.fc3(x)\n",
    "        x = F.log_softmax(x, dim = 1) # log_softmax()는 softmax() 보다 Loss 값에 대한 Gradient 값을 좀 더 원활하게 계산할 수 있다\n",
    "        return x"
   ]
  },
  {
   "cell_type": "code",
   "execution_count": 8,
   "id": "ad0e3352",
   "metadata": {},
   "outputs": [
    {
     "name": "stdout",
     "output_type": "stream",
     "text": [
      "Net(\n",
      "  (fc1): Linear(in_features=784, out_features=512, bias=True)\n",
      "  (fc2): Linear(in_features=512, out_features=256, bias=True)\n",
      "  (fc3): Linear(in_features=256, out_features=10, bias=True)\n",
      ")\n"
     ]
    }
   ],
   "source": [
    "''' 7. Optimizer, Objective Function 설정하기 '''\n",
    "model = Net().to(DEVICE)\n",
    "optimizer = torch.optim.SGD(model.parameters(), lr = 0.01, momentum = 0.5)\n",
    "criterion = nn.CrossEntropyLoss()\n",
    "\n",
    "print(model)"
   ]
  },
  {
   "cell_type": "code",
   "execution_count": 9,
   "id": "a1fedb5a",
   "metadata": {},
   "outputs": [],
   "source": [
    "''' 8. MLP 모델 학습을 진행하며 학습 데이터에 대한 모델 성능을 확인하는 함수 정의 '''\n",
    "def train(model, train_loader, optimizer, log_interval):\n",
    "    model.train()\n",
    "    for batch_idx, (image, label) in enumerate(train_loader):\n",
    "        image = image.to(DEVICE)\n",
    "        label = label.to(DEVICE)\n",
    "        optimizer.zero_grad()\n",
    "        output = model(image)\n",
    "        loss = criterion(output, label)\n",
    "        loss.backward()\n",
    "        optimizer.step()\n",
    "\n",
    "        if batch_idx % log_interval == 0:\n",
    "            print(\"Train Epoch: {} [{}/{} ({:.0f}%)]\\tTrain Loss: {:.6f}\".format(\n",
    "                epoch, batch_idx * len(image), \n",
    "                len(train_loader.dataset), 100. * batch_idx / len(train_loader), \n",
    "                loss.item()))"
   ]
  },
  {
   "cell_type": "code",
   "execution_count": 10,
   "id": "699ac1c3",
   "metadata": {},
   "outputs": [],
   "source": [
    "''' 9. 학습되는 과정 속에서 검증 데이터에 대한 모델 성능을 확인하는 함수 정의 '''\n",
    "def evaluate(model, test_loader):\n",
    "    model.eval()\n",
    "    test_loss = 0\n",
    "    correct = 0\n",
    "\n",
    "    with torch.no_grad():\n",
    "        for image, label in test_loader:\n",
    "            image = image.to(DEVICE)\n",
    "            label = label.to(DEVICE)\n",
    "            output = model(image)\n",
    "            test_loss += criterion(output, label).item()\n",
    "            prediction = output.max(1, keepdim = True)[1]\n",
    "            correct += prediction.eq(label.view_as(prediction)).sum().item()\n",
    "    \n",
    "    test_loss /= (len(test_loader.dataset) / BATCH_SIZE)\n",
    "    test_accuracy = 100. * correct / len(test_loader.dataset)\n",
    "    return test_loss, test_accuracy"
   ]
  },
  {
   "cell_type": "code",
   "execution_count": 11,
   "id": "f3d22818",
   "metadata": {},
   "outputs": [
    {
     "name": "stderr",
     "output_type": "stream",
     "text": [
      "C:\\Users\\anpdi\\anaconda3\\lib\\site-packages\\torch\\nn\\functional.py:1805: UserWarning: nn.functional.sigmoid is deprecated. Use torch.sigmoid instead.\n",
      "  warnings.warn(\"nn.functional.sigmoid is deprecated. Use torch.sigmoid instead.\")\n"
     ]
    },
    {
     "name": "stdout",
     "output_type": "stream",
     "text": [
      "Train Epoch: 1 [0/60000 (0%)]\tTrain Loss: 2.321847\n",
      "Train Epoch: 1 [6400/60000 (11%)]\tTrain Loss: 2.341492\n",
      "Train Epoch: 1 [12800/60000 (21%)]\tTrain Loss: 2.277108\n",
      "Train Epoch: 1 [19200/60000 (32%)]\tTrain Loss: 2.277262\n",
      "Train Epoch: 1 [25600/60000 (43%)]\tTrain Loss: 2.264527\n",
      "Train Epoch: 1 [32000/60000 (53%)]\tTrain Loss: 2.300548\n",
      "Train Epoch: 1 [38400/60000 (64%)]\tTrain Loss: 2.287516\n",
      "Train Epoch: 1 [44800/60000 (75%)]\tTrain Loss: 2.255331\n",
      "Train Epoch: 1 [51200/60000 (85%)]\tTrain Loss: 2.297989\n",
      "Train Epoch: 1 [57600/60000 (96%)]\tTrain Loss: 2.237818\n",
      "\n",
      "[EPOCH: 1], \tTest Loss: 2.2364, \tTest Accuracy: 16.67 % \n",
      "\n",
      "Train Epoch: 2 [0/60000 (0%)]\tTrain Loss: 2.189906\n",
      "Train Epoch: 2 [6400/60000 (11%)]\tTrain Loss: 2.241208\n",
      "Train Epoch: 2 [12800/60000 (21%)]\tTrain Loss: 2.056847\n",
      "Train Epoch: 2 [19200/60000 (32%)]\tTrain Loss: 2.090670\n",
      "Train Epoch: 2 [25600/60000 (43%)]\tTrain Loss: 1.944476\n",
      "Train Epoch: 2 [32000/60000 (53%)]\tTrain Loss: 1.898913\n",
      "Train Epoch: 2 [38400/60000 (64%)]\tTrain Loss: 1.680056\n",
      "Train Epoch: 2 [44800/60000 (75%)]\tTrain Loss: 1.524944\n",
      "Train Epoch: 2 [51200/60000 (85%)]\tTrain Loss: 1.354919\n",
      "Train Epoch: 2 [57600/60000 (96%)]\tTrain Loss: 1.158196\n",
      "\n",
      "[EPOCH: 2], \tTest Loss: 1.2131, \tTest Accuracy: 63.00 % \n",
      "\n",
      "Train Epoch: 3 [0/60000 (0%)]\tTrain Loss: 1.306453\n",
      "Train Epoch: 3 [6400/60000 (11%)]\tTrain Loss: 1.103509\n",
      "Train Epoch: 3 [12800/60000 (21%)]\tTrain Loss: 1.051088\n",
      "Train Epoch: 3 [19200/60000 (32%)]\tTrain Loss: 1.044514\n",
      "Train Epoch: 3 [25600/60000 (43%)]\tTrain Loss: 0.996982\n",
      "Train Epoch: 3 [32000/60000 (53%)]\tTrain Loss: 0.899344\n",
      "Train Epoch: 3 [38400/60000 (64%)]\tTrain Loss: 0.845966\n",
      "Train Epoch: 3 [44800/60000 (75%)]\tTrain Loss: 0.892108\n",
      "Train Epoch: 3 [51200/60000 (85%)]\tTrain Loss: 0.789856\n",
      "Train Epoch: 3 [57600/60000 (96%)]\tTrain Loss: 0.693359\n",
      "\n",
      "[EPOCH: 3], \tTest Loss: 0.7405, \tTest Accuracy: 77.88 % \n",
      "\n",
      "Train Epoch: 4 [0/60000 (0%)]\tTrain Loss: 0.903933\n",
      "Train Epoch: 4 [6400/60000 (11%)]\tTrain Loss: 0.702574\n",
      "Train Epoch: 4 [12800/60000 (21%)]\tTrain Loss: 0.712295\n",
      "Train Epoch: 4 [19200/60000 (32%)]\tTrain Loss: 0.410427\n",
      "Train Epoch: 4 [25600/60000 (43%)]\tTrain Loss: 0.513109\n",
      "Train Epoch: 4 [32000/60000 (53%)]\tTrain Loss: 0.586681\n",
      "Train Epoch: 4 [38400/60000 (64%)]\tTrain Loss: 0.473916\n",
      "Train Epoch: 4 [44800/60000 (75%)]\tTrain Loss: 0.465626\n",
      "Train Epoch: 4 [51200/60000 (85%)]\tTrain Loss: 0.639502\n",
      "Train Epoch: 4 [57600/60000 (96%)]\tTrain Loss: 0.468024\n",
      "\n",
      "[EPOCH: 4], \tTest Loss: 0.5519, \tTest Accuracy: 84.07 % \n",
      "\n",
      "Train Epoch: 5 [0/60000 (0%)]\tTrain Loss: 0.476396\n",
      "Train Epoch: 5 [6400/60000 (11%)]\tTrain Loss: 0.279768\n",
      "Train Epoch: 5 [12800/60000 (21%)]\tTrain Loss: 0.647280\n",
      "Train Epoch: 5 [19200/60000 (32%)]\tTrain Loss: 0.360999\n",
      "Train Epoch: 5 [25600/60000 (43%)]\tTrain Loss: 0.621400\n",
      "Train Epoch: 5 [32000/60000 (53%)]\tTrain Loss: 0.285112\n",
      "Train Epoch: 5 [38400/60000 (64%)]\tTrain Loss: 0.417180\n",
      "Train Epoch: 5 [44800/60000 (75%)]\tTrain Loss: 0.626811\n",
      "Train Epoch: 5 [51200/60000 (85%)]\tTrain Loss: 0.701018\n",
      "Train Epoch: 5 [57600/60000 (96%)]\tTrain Loss: 0.631174\n",
      "\n",
      "[EPOCH: 5], \tTest Loss: 0.4666, \tTest Accuracy: 86.29 % \n",
      "\n",
      "Train Epoch: 6 [0/60000 (0%)]\tTrain Loss: 0.348503\n",
      "Train Epoch: 6 [6400/60000 (11%)]\tTrain Loss: 0.497719\n",
      "Train Epoch: 6 [12800/60000 (21%)]\tTrain Loss: 0.384721\n",
      "Train Epoch: 6 [19200/60000 (32%)]\tTrain Loss: 0.367815\n",
      "Train Epoch: 6 [25600/60000 (43%)]\tTrain Loss: 0.247424\n",
      "Train Epoch: 6 [32000/60000 (53%)]\tTrain Loss: 0.470252\n",
      "Train Epoch: 6 [38400/60000 (64%)]\tTrain Loss: 0.288060\n",
      "Train Epoch: 6 [44800/60000 (75%)]\tTrain Loss: 0.428393\n",
      "Train Epoch: 6 [51200/60000 (85%)]\tTrain Loss: 0.367363\n",
      "Train Epoch: 6 [57600/60000 (96%)]\tTrain Loss: 0.538111\n",
      "\n",
      "[EPOCH: 6], \tTest Loss: 0.4190, \tTest Accuracy: 87.80 % \n",
      "\n",
      "Train Epoch: 7 [0/60000 (0%)]\tTrain Loss: 0.282461\n",
      "Train Epoch: 7 [6400/60000 (11%)]\tTrain Loss: 0.367914\n",
      "Train Epoch: 7 [12800/60000 (21%)]\tTrain Loss: 0.230417\n",
      "Train Epoch: 7 [19200/60000 (32%)]\tTrain Loss: 0.441174\n",
      "Train Epoch: 7 [25600/60000 (43%)]\tTrain Loss: 0.263641\n",
      "Train Epoch: 7 [32000/60000 (53%)]\tTrain Loss: 0.371395\n",
      "Train Epoch: 7 [38400/60000 (64%)]\tTrain Loss: 0.308430\n",
      "Train Epoch: 7 [44800/60000 (75%)]\tTrain Loss: 0.369480\n",
      "Train Epoch: 7 [51200/60000 (85%)]\tTrain Loss: 0.380336\n",
      "Train Epoch: 7 [57600/60000 (96%)]\tTrain Loss: 0.107907\n",
      "\n",
      "[EPOCH: 7], \tTest Loss: 0.3873, \tTest Accuracy: 88.66 % \n",
      "\n",
      "Train Epoch: 8 [0/60000 (0%)]\tTrain Loss: 0.466467\n",
      "Train Epoch: 8 [6400/60000 (11%)]\tTrain Loss: 0.485301\n",
      "Train Epoch: 8 [12800/60000 (21%)]\tTrain Loss: 0.350491\n",
      "Train Epoch: 8 [19200/60000 (32%)]\tTrain Loss: 0.153977\n",
      "Train Epoch: 8 [25600/60000 (43%)]\tTrain Loss: 0.171872\n",
      "Train Epoch: 8 [32000/60000 (53%)]\tTrain Loss: 0.467329\n",
      "Train Epoch: 8 [38400/60000 (64%)]\tTrain Loss: 0.319650\n",
      "Train Epoch: 8 [44800/60000 (75%)]\tTrain Loss: 0.245571\n",
      "Train Epoch: 8 [51200/60000 (85%)]\tTrain Loss: 0.320537\n",
      "Train Epoch: 8 [57600/60000 (96%)]\tTrain Loss: 0.362997\n",
      "\n",
      "[EPOCH: 8], \tTest Loss: 0.3710, \tTest Accuracy: 89.12 % \n",
      "\n",
      "Train Epoch: 9 [0/60000 (0%)]\tTrain Loss: 0.269433\n",
      "Train Epoch: 9 [6400/60000 (11%)]\tTrain Loss: 0.380992\n",
      "Train Epoch: 9 [12800/60000 (21%)]\tTrain Loss: 0.441081\n",
      "Train Epoch: 9 [19200/60000 (32%)]\tTrain Loss: 0.446249\n",
      "Train Epoch: 9 [25600/60000 (43%)]\tTrain Loss: 0.350778\n",
      "Train Epoch: 9 [32000/60000 (53%)]\tTrain Loss: 0.289820\n",
      "Train Epoch: 9 [38400/60000 (64%)]\tTrain Loss: 0.272465\n",
      "Train Epoch: 9 [44800/60000 (75%)]\tTrain Loss: 0.431529\n",
      "Train Epoch: 9 [51200/60000 (85%)]\tTrain Loss: 0.447421\n",
      "Train Epoch: 9 [57600/60000 (96%)]\tTrain Loss: 0.227224\n",
      "\n",
      "[EPOCH: 9], \tTest Loss: 0.3517, \tTest Accuracy: 89.75 % \n",
      "\n",
      "Train Epoch: 10 [0/60000 (0%)]\tTrain Loss: 0.357644\n",
      "Train Epoch: 10 [6400/60000 (11%)]\tTrain Loss: 0.512204\n",
      "Train Epoch: 10 [12800/60000 (21%)]\tTrain Loss: 0.263853\n",
      "Train Epoch: 10 [19200/60000 (32%)]\tTrain Loss: 0.086631\n",
      "Train Epoch: 10 [25600/60000 (43%)]\tTrain Loss: 0.597157\n",
      "Train Epoch: 10 [32000/60000 (53%)]\tTrain Loss: 0.313479\n",
      "Train Epoch: 10 [38400/60000 (64%)]\tTrain Loss: 0.274971\n",
      "Train Epoch: 10 [44800/60000 (75%)]\tTrain Loss: 0.437428\n",
      "Train Epoch: 10 [51200/60000 (85%)]\tTrain Loss: 0.330059\n",
      "Train Epoch: 10 [57600/60000 (96%)]\tTrain Loss: 0.279766\n",
      "\n",
      "[EPOCH: 10], \tTest Loss: 0.3426, \tTest Accuracy: 89.99 % \n",
      "\n"
     ]
    }
   ],
   "source": [
    "''' 10. MLP 학습 실행하며 Train, Test set의 Loss 및 Test set Accuracy 확인하기 '''\n",
    "for epoch in range(1, EPOCHS + 1):\n",
    "    train(model, train_loader, optimizer, log_interval = 200)\n",
    "    test_loss, test_accuracy = evaluate(model, test_loader)\n",
    "    print(\"\\n[EPOCH: {}], \\tTest Loss: {:.4f}, \\tTest Accuracy: {:.2f} % \\n\".format(\n",
    "        epoch, test_loss, test_accuracy))"
   ]
  },
  {
   "cell_type": "markdown",
   "id": "1468cd39",
   "metadata": {},
   "source": [
    "## Dropout, Relu, BatchNorm 적용"
   ]
  },
  {
   "cell_type": "code",
   "execution_count": 12,
   "id": "17a5e902",
   "metadata": {},
   "outputs": [],
   "source": [
    "''' 6. Multi Layer Perceptron (MLP) 모델 설계하기 '''\n",
    "class Net(nn.Module):\n",
    "    def __init__(self):\n",
    "        super(Net, self).__init__()\n",
    "        self.fc1 = nn.Linear(28 * 28, 512)\n",
    "        self.fc2 = nn.Linear(512, 256)\n",
    "        self.fc3 = nn.Linear(256, 10)\n",
    "        self.dropout_prob = 0.5\n",
    "        self.batch_norm1 = nn.BatchNorm1d(512)\n",
    "        self.batch_norm2 = nn.BatchNorm1d(256)\n",
    "\n",
    "    def forward(self, x):\n",
    "        x = x.view(-1, 28 * 28)\n",
    "        x = self.fc1(x)\n",
    "        x = self.batch_norm1(x)\n",
    "        x = F.relu(x)\n",
    "        x = F.dropout(x, training = self.training, p = self.dropout_prob)\n",
    "        x = self.fc2(x)\n",
    "        x = self.batch_norm2(x)\n",
    "        x = F.relu(x)\n",
    "        x = F.dropout(x, training = self.training, p = self.dropout_prob)\n",
    "        x = self.fc3(x)\n",
    "        x = F.log_softmax(x, dim = 1)\n",
    "        return x"
   ]
  },
  {
   "cell_type": "markdown",
   "id": "7dd94670",
   "metadata": {},
   "source": [
    "## He uniform Initalization 적용"
   ]
  },
  {
   "cell_type": "code",
   "execution_count": 13,
   "id": "8b096d08",
   "metadata": {},
   "outputs": [
    {
     "name": "stdout",
     "output_type": "stream",
     "text": [
      "Net(\n",
      "  (fc1): Linear(in_features=784, out_features=512, bias=True)\n",
      "  (fc2): Linear(in_features=512, out_features=256, bias=True)\n",
      "  (fc3): Linear(in_features=256, out_features=10, bias=True)\n",
      "  (batch_norm1): BatchNorm1d(512, eps=1e-05, momentum=0.1, affine=True, track_running_stats=True)\n",
      "  (batch_norm2): BatchNorm1d(256, eps=1e-05, momentum=0.1, affine=True, track_running_stats=True)\n",
      ")\n"
     ]
    }
   ],
   "source": [
    "''' 7. Optimizer, Objective Function 설정하기 '''\n",
    "import torch.nn.init as init\n",
    "def weight_init(m):\n",
    "    if isinstance(m, nn.Linear):\n",
    "        init.kaiming_uniform_(m.weight.data)\n",
    "\n",
    "model = Net().to(DEVICE)\n",
    "model.apply(weight_init)\n",
    "optimizer = torch.optim.SGD(model.parameters(), lr = 0.01, momentum = 0.5)\n",
    "criterion = nn.CrossEntropyLoss()\n",
    "\n",
    "print(model)"
   ]
  },
  {
   "cell_type": "markdown",
   "id": "286678a5",
   "metadata": {},
   "source": [
    "## Adam optimizer 적용"
   ]
  },
  {
   "cell_type": "code",
   "execution_count": 14,
   "id": "d6b2c7eb",
   "metadata": {},
   "outputs": [
    {
     "name": "stdout",
     "output_type": "stream",
     "text": [
      "Net(\n",
      "  (fc1): Linear(in_features=784, out_features=512, bias=True)\n",
      "  (fc2): Linear(in_features=512, out_features=256, bias=True)\n",
      "  (fc3): Linear(in_features=256, out_features=10, bias=True)\n",
      "  (batch_norm1): BatchNorm1d(512, eps=1e-05, momentum=0.1, affine=True, track_running_stats=True)\n",
      "  (batch_norm2): BatchNorm1d(256, eps=1e-05, momentum=0.1, affine=True, track_running_stats=True)\n",
      ")\n"
     ]
    }
   ],
   "source": [
    "''' 7. Optimizer, Objective Function 설정하기 '''\n",
    "import torch.nn.init as init\n",
    "def weight_init(m):\n",
    "    if isinstance(m, nn.Linear):\n",
    "        init.kaiming_uniform_(m.weight.data)\n",
    "\n",
    "model = Net().to(DEVICE)\n",
    "model.apply(weight_init)\n",
    "optimizer = torch.optim.Adam(model.parameters(), lr = 0.01)\n",
    "criterion = nn.CrossEntropyLoss()\n",
    "\n",
    "print(model)"
   ]
  },
  {
   "cell_type": "code",
   "execution_count": null,
   "id": "f6aad2c8",
   "metadata": {},
   "outputs": [],
   "source": []
  }
 ],
 "metadata": {
  "kernelspec": {
   "display_name": "Python 3",
   "language": "python",
   "name": "python3"
  },
  "language_info": {
   "codemirror_mode": {
    "name": "ipython",
    "version": 3
   },
   "file_extension": ".py",
   "mimetype": "text/x-python",
   "name": "python",
   "nbconvert_exporter": "python",
   "pygments_lexer": "ipython3",
   "version": "3.8.8"
  }
 },
 "nbformat": 4,
 "nbformat_minor": 5
}
